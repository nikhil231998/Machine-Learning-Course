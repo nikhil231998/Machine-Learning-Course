{
 "cells": [
  {
   "cell_type": "markdown",
   "metadata": {},
   "source": [
    "# Assignment Phase 2"
   ]
  },
  {
   "cell_type": "markdown",
   "metadata": {},
   "source": [
    "* **Group Name**: Group 84\n",
    "* **Group Members**:\n",
    "\t*\tAkshay Sharma (S3815250)\n",
    "\t*\tDrashti Khakhi (S3815974)\n",
    "\t*\tNikhil Sharma (S3833151)"
   ]
  },
  {
   "cell_type": "markdown",
   "metadata": {},
   "source": [
    "## Table of content\n",
    "* [Task 1: Introduction](#introduction)\n",
    "\t*\t[Task 1.1: Report Overview](#reportoverview)\n",
    "\t*\t[Task 1.2: Overview of Methodology](#methodology) <br> <br>\n",
    "* [Task 2: Predictive Modelling](#predictivemodelling) <br> <br>\n",
    "\t*\t[Task 2.1: Feature Selection](#featureselection)\n",
    "\t*\t[Task 2.2: Model Fitting & Tuning](#modelfitting) \n",
    "    *\t[Task 2.3: Model Comparison](#modelcomparison)<br> <br>\n",
    "* [Task 3: Critique and Limitations](#limitations)<br> <br>\n",
    "* [Task 4: Summary and Conclusions](#summary) \n",
    "\t* [Task 4.1: Project Summary](#projectsummary)\n",
    "\t* [Task 4.2: Summary of Findings](#summary-of-findings)\n",
    "\t* [Task 4.3: Conclusions](#conclusions)"
   ]
  },
  {
   "cell_type": "markdown",
   "metadata": {},
   "source": [
    "#### Importing Packages"
   ]
  },
  {
   "cell_type": "code",
   "execution_count": 1,
   "metadata": {},
   "outputs": [],
   "source": [
    "# Set a seed value\n",
    "seed_value = 999 \n",
    "# 1. Initialise `PYTHONHASHSEED` environment variable\n",
    "import os\n",
    "os.environ['PYTHONHASHSEED']=str(seed_value)\n",
    "# 2. Initialise Python's own pseudo-random generator\n",
    "import random\n",
    "random.seed(seed_value)\n",
    "# 3. Initialise Numpy's pseudo-random generator\n",
    "import numpy as np\n",
    "np.random.seed(seed_value)\n",
    "\n",
    "\n",
    "#Importing packages\n",
    "import pandas as pd\n",
    "import numpy as np\n",
    "import matplotlib.pyplot as plt\n",
    "import seaborn as sns\n",
    "from scipy import stats\n",
    "\n",
    "import warnings\n",
    "from sklearn.model_selection import StratifiedKFold, GridSearchCV, cross_val_score, RepeatedStratifiedKFold\n",
    "n_jobs = -1\n",
    "RANDOM_STATE = 999\n",
    "\n",
    "warnings.filterwarnings(\"ignore\")\n",
    "pd.set_option('display.max_columns', None)\n",
    "\n",
    "from sklearn.datasets import make_regression\n",
    "from sklearn.ensemble import RandomForestClassifier\n",
    "from matplotlib import pyplot\n",
    "from sklearn.linear_model import LogisticRegression\n",
    "from sklearn.neighbors import KNeighborsClassifier\n",
    "from sklearn.tree import DecisionTreeRegressor\n",
    "from sklearn.naive_bayes import GaussianNB\n",
    "from sklearn.ensemble import GradientBoostingClassifier\n",
    "from sklearn.svm import SVC\n",
    "from sklearn.metrics import accuracy_score, confusion_matrix, roc_auc_score, roc_curve, auc"
   ]
  },
  {
   "cell_type": "markdown",
   "metadata": {},
   "source": [
    "### Reading & Preprocessing Data "
   ]
  },
  {
   "cell_type": "code",
   "execution_count": 2,
   "metadata": {},
   "outputs": [],
   "source": [
    "#Reading the dataset\n",
    "df = pd.read_csv('train.csv',encoding='unicode_escape')\n",
    "\n",
    "#Sampling to select random 5000 rows\n",
    "sampled_df = df.sample(5000)\n",
    "\n",
    "# Removing the 'Unnamed: 0' and 'id' columns\n",
    "sampled_df.drop(['Unnamed: 0','id'], axis = 1, inplace = True)\n",
    "\n",
    "# Changing data types of columns from 'Inflight wifi service' to 'Cleanliness'\n",
    "for i in range(6,20):\n",
    "    sampled_df.iloc[:,i] = pd.Categorical(sampled_df.iloc[:,i],[0,1,2,3,4,5], ordered=True) \n",
    "    \n",
    "# Deleing the NA values from the dataswet\n",
    "sampled_df.dropna(axis =0, inplace = True)\n",
    "\n",
    "# converting the 'Arrival Delay in Minutes' column to int64\n",
    "sampled_df['Arrival Delay in Minutes'] = sampled_df['Arrival Delay in Minutes'].astype('int64')\n",
    "\n",
    "# For better understanding, have renamed the level from 'Neutral or dissatisfied' to 'dissatisfied'\n",
    "sampled_df.replace(to_replace =\"neutral or dissatisfied\",\n",
    "                 value =\"dissatisfied\", inplace = True)\n",
    "\n",
    "#Converting to Uppercase\n",
    "for i in range(len(list(sampled_df.columns))):\n",
    "    if sampled_df.iloc[:,i].dtypes == object:\n",
    "        sampled_df.iloc[:,i] = sampled_df.iloc[:,i].str.upper()"
   ]
  },
  {
   "cell_type": "code",
   "execution_count": 3,
   "metadata": {},
   "outputs": [
    {
     "data": {
      "text/html": [
       "<div>\n",
       "<style scoped>\n",
       "    .dataframe tbody tr th:only-of-type {\n",
       "        vertical-align: middle;\n",
       "    }\n",
       "\n",
       "    .dataframe tbody tr th {\n",
       "        vertical-align: top;\n",
       "    }\n",
       "\n",
       "    .dataframe thead th {\n",
       "        text-align: right;\n",
       "    }\n",
       "</style>\n",
       "<table border=\"1\" class=\"dataframe\">\n",
       "  <thead>\n",
       "    <tr style=\"text-align: right;\">\n",
       "      <th></th>\n",
       "      <th>Gender</th>\n",
       "      <th>Customer Type</th>\n",
       "      <th>Age</th>\n",
       "      <th>Type of Travel</th>\n",
       "      <th>Class</th>\n",
       "      <th>Flight Distance</th>\n",
       "      <th>Inflight wifi service</th>\n",
       "      <th>Departure/Arrival time convenient</th>\n",
       "      <th>Ease of Online booking</th>\n",
       "      <th>Gate location</th>\n",
       "      <th>Food and drink</th>\n",
       "      <th>Online boarding</th>\n",
       "      <th>Seat comfort</th>\n",
       "      <th>Inflight entertainment</th>\n",
       "      <th>On-board service</th>\n",
       "      <th>Leg room service</th>\n",
       "      <th>Baggage handling</th>\n",
       "      <th>Checkin service</th>\n",
       "      <th>Inflight service</th>\n",
       "      <th>Cleanliness</th>\n",
       "      <th>Departure Delay in Minutes</th>\n",
       "      <th>Arrival Delay in Minutes</th>\n",
       "      <th>satisfaction</th>\n",
       "    </tr>\n",
       "  </thead>\n",
       "  <tbody>\n",
       "    <tr>\n",
       "      <th>49734</th>\n",
       "      <td>FEMALE</td>\n",
       "      <td>LOYAL CUSTOMER</td>\n",
       "      <td>52</td>\n",
       "      <td>BUSINESS TRAVEL</td>\n",
       "      <td>BUSINESS</td>\n",
       "      <td>2367</td>\n",
       "      <td>2</td>\n",
       "      <td>2</td>\n",
       "      <td>2</td>\n",
       "      <td>2</td>\n",
       "      <td>5</td>\n",
       "      <td>5</td>\n",
       "      <td>5</td>\n",
       "      <td>5</td>\n",
       "      <td>5</td>\n",
       "      <td>5</td>\n",
       "      <td>5</td>\n",
       "      <td>5</td>\n",
       "      <td>5</td>\n",
       "      <td>3</td>\n",
       "      <td>101</td>\n",
       "      <td>93</td>\n",
       "      <td>SATISFIED</td>\n",
       "    </tr>\n",
       "    <tr>\n",
       "      <th>50344</th>\n",
       "      <td>MALE</td>\n",
       "      <td>LOYAL CUSTOMER</td>\n",
       "      <td>46</td>\n",
       "      <td>PERSONAL TRAVEL</td>\n",
       "      <td>ECO</td>\n",
       "      <td>414</td>\n",
       "      <td>0</td>\n",
       "      <td>4</td>\n",
       "      <td>0</td>\n",
       "      <td>2</td>\n",
       "      <td>4</td>\n",
       "      <td>0</td>\n",
       "      <td>4</td>\n",
       "      <td>4</td>\n",
       "      <td>3</td>\n",
       "      <td>3</td>\n",
       "      <td>1</td>\n",
       "      <td>4</td>\n",
       "      <td>2</td>\n",
       "      <td>4</td>\n",
       "      <td>0</td>\n",
       "      <td>0</td>\n",
       "      <td>SATISFIED</td>\n",
       "    </tr>\n",
       "    <tr>\n",
       "      <th>89920</th>\n",
       "      <td>MALE</td>\n",
       "      <td>LOYAL CUSTOMER</td>\n",
       "      <td>56</td>\n",
       "      <td>BUSINESS TRAVEL</td>\n",
       "      <td>ECO</td>\n",
       "      <td>1072</td>\n",
       "      <td>4</td>\n",
       "      <td>5</td>\n",
       "      <td>5</td>\n",
       "      <td>5</td>\n",
       "      <td>4</td>\n",
       "      <td>4</td>\n",
       "      <td>4</td>\n",
       "      <td>4</td>\n",
       "      <td>2</td>\n",
       "      <td>3</td>\n",
       "      <td>4</td>\n",
       "      <td>4</td>\n",
       "      <td>3</td>\n",
       "      <td>4</td>\n",
       "      <td>68</td>\n",
       "      <td>47</td>\n",
       "      <td>DISSATISFIED</td>\n",
       "    </tr>\n",
       "    <tr>\n",
       "      <th>60141</th>\n",
       "      <td>FEMALE</td>\n",
       "      <td>LOYAL CUSTOMER</td>\n",
       "      <td>60</td>\n",
       "      <td>BUSINESS TRAVEL</td>\n",
       "      <td>BUSINESS</td>\n",
       "      <td>2071</td>\n",
       "      <td>2</td>\n",
       "      <td>2</td>\n",
       "      <td>2</td>\n",
       "      <td>2</td>\n",
       "      <td>5</td>\n",
       "      <td>5</td>\n",
       "      <td>4</td>\n",
       "      <td>4</td>\n",
       "      <td>4</td>\n",
       "      <td>4</td>\n",
       "      <td>4</td>\n",
       "      <td>5</td>\n",
       "      <td>4</td>\n",
       "      <td>5</td>\n",
       "      <td>4</td>\n",
       "      <td>0</td>\n",
       "      <td>SATISFIED</td>\n",
       "    </tr>\n",
       "    <tr>\n",
       "      <th>30363</th>\n",
       "      <td>MALE</td>\n",
       "      <td>DISLOYAL CUSTOMER</td>\n",
       "      <td>25</td>\n",
       "      <td>BUSINESS TRAVEL</td>\n",
       "      <td>ECO</td>\n",
       "      <td>1012</td>\n",
       "      <td>1</td>\n",
       "      <td>1</td>\n",
       "      <td>1</td>\n",
       "      <td>4</td>\n",
       "      <td>3</td>\n",
       "      <td>1</td>\n",
       "      <td>3</td>\n",
       "      <td>3</td>\n",
       "      <td>3</td>\n",
       "      <td>5</td>\n",
       "      <td>4</td>\n",
       "      <td>2</td>\n",
       "      <td>3</td>\n",
       "      <td>3</td>\n",
       "      <td>9</td>\n",
       "      <td>0</td>\n",
       "      <td>DISSATISFIED</td>\n",
       "    </tr>\n",
       "  </tbody>\n",
       "</table>\n",
       "</div>"
      ],
      "text/plain": [
       "       Gender      Customer Type  Age   Type of Travel     Class  \\\n",
       "49734  FEMALE     LOYAL CUSTOMER   52  BUSINESS TRAVEL  BUSINESS   \n",
       "50344    MALE     LOYAL CUSTOMER   46  PERSONAL TRAVEL       ECO   \n",
       "89920    MALE     LOYAL CUSTOMER   56  BUSINESS TRAVEL       ECO   \n",
       "60141  FEMALE     LOYAL CUSTOMER   60  BUSINESS TRAVEL  BUSINESS   \n",
       "30363    MALE  DISLOYAL CUSTOMER   25  BUSINESS TRAVEL       ECO   \n",
       "\n",
       "       Flight Distance Inflight wifi service  \\\n",
       "49734             2367                     2   \n",
       "50344              414                     0   \n",
       "89920             1072                     4   \n",
       "60141             2071                     2   \n",
       "30363             1012                     1   \n",
       "\n",
       "      Departure/Arrival time convenient Ease of Online booking Gate location  \\\n",
       "49734                                 2                      2             2   \n",
       "50344                                 4                      0             2   \n",
       "89920                                 5                      5             5   \n",
       "60141                                 2                      2             2   \n",
       "30363                                 1                      1             4   \n",
       "\n",
       "      Food and drink Online boarding Seat comfort Inflight entertainment  \\\n",
       "49734              5               5            5                      5   \n",
       "50344              4               0            4                      4   \n",
       "89920              4               4            4                      4   \n",
       "60141              5               5            4                      4   \n",
       "30363              3               1            3                      3   \n",
       "\n",
       "      On-board service Leg room service Baggage handling Checkin service  \\\n",
       "49734                5                5                5               5   \n",
       "50344                3                3                1               4   \n",
       "89920                2                3                4               4   \n",
       "60141                4                4                4               5   \n",
       "30363                3                5                4               2   \n",
       "\n",
       "      Inflight service Cleanliness  Departure Delay in Minutes  \\\n",
       "49734                5           3                         101   \n",
       "50344                2           4                           0   \n",
       "89920                3           4                          68   \n",
       "60141                4           5                           4   \n",
       "30363                3           3                           9   \n",
       "\n",
       "       Arrival Delay in Minutes  satisfaction  \n",
       "49734                        93     SATISFIED  \n",
       "50344                         0     SATISFIED  \n",
       "89920                        47  DISSATISFIED  \n",
       "60141                         0     SATISFIED  \n",
       "30363                         0  DISSATISFIED  "
      ]
     },
     "execution_count": 3,
     "metadata": {},
     "output_type": "execute_result"
    }
   ],
   "source": [
    "#Viewing the result\n",
    "sampled_df.head()"
   ]
  },
  {
   "cell_type": "markdown",
   "metadata": {},
   "source": [
    "## Task 1 : Introduction <a class=\"anchor\" id=\"introduction\"></a>"
   ]
  },
  {
   "cell_type": "markdown",
   "metadata": {},
   "source": [
    "### Task 1.1 - Report Overview <a class=\"anchor\" id=\"reportoverview\"></a>"
   ]
  },
  {
   "cell_type": "markdown",
   "metadata": {},
   "source": [
    "This report includes importing all the necessary packages first. In order to be in line with the Phase 1 report which includes all the data pre processing steps, performed the same steps here so that we can use the same data. After all the preprocessing is completed, performed the Predictive Modeling with original features and the top 5 features(using feature selection). The result was better by selecting top 5 features. After that performed hyper parameter tuning to select the best parameters for better results. To compare the algorithms' performance, Model Comparison was done using paired t-test."
   ]
  },
  {
   "cell_type": "markdown",
   "metadata": {},
   "source": [
    "### Task 1.2 - Overview of Methodology <a class=\"anchor\" id=\"methodology\"></a>"
   ]
  },
  {
   "cell_type": "markdown",
   "metadata": {},
   "source": [
    "The methodology used for predictive modeling is as follows:\n",
    "1. Feature Selection to get top 5 features\n",
    "2. Predictive Modeling using all the features in the dataset\n",
    "3. Predictive Modeling using top 5 features in the dataset\n",
    "4. Hyper Parameter Tuning \n",
    "5. Model Comparison"
   ]
  },
  {
   "cell_type": "markdown",
   "metadata": {},
   "source": [
    "# Task 2 : Predictive Modelling <a class=\"anchor\" id=\"predictivemodelling\"></a>"
   ]
  },
  {
   "cell_type": "code",
   "execution_count": 4,
   "metadata": {},
   "outputs": [],
   "source": [
    "#Separating the target variable from the dataset\n",
    "y = pd.DataFrame(sampled_df.pop('satisfaction'))\n",
    "X = sampled_df"
   ]
  },
  {
   "cell_type": "code",
   "execution_count": 5,
   "metadata": {},
   "outputs": [],
   "source": [
    "#Performing One Hot Encoding for respective columns\n",
    "X['Male'] = pd.get_dummies(df['Gender'], drop_first=True)\n",
    "X['disloyal Customer'] = pd.get_dummies(df['Customer Type'], drop_first=True)\n",
    "X['Personal Travel'] = pd.get_dummies(df['Type of Travel'], drop_first=True)\n",
    "X[['Eco', 'Eco Plus']] = pd.get_dummies(df['Class'], drop_first=True)\n",
    "X.drop(['Gender', 'Customer Type', 'Type of Travel', 'Class'], axis = 1, inplace=True)\n",
    "y.replace('SATISFIED', 1, inplace=True)\n",
    "y.replace('DISSATISFIED', 0, inplace=True)"
   ]
  },
  {
   "cell_type": "markdown",
   "metadata": {},
   "source": [
    "### Task 2.1 - Feature Selection <a class=\"anchor\" id=\"featureselection\"></a>"
   ]
  },
  {
   "cell_type": "code",
   "execution_count": 6,
   "metadata": {},
   "outputs": [
    {
     "name": "stdout",
     "output_type": "stream",
     "text": [
      "Feature: 0, Score: 0.03891\n",
      "Feature: 1, Score: 0.04096\n",
      "Feature: 2, Score: 0.12957\n",
      "Feature: 3, Score: 0.01661\n",
      "Feature: 4, Score: 0.04243\n",
      "Feature: 5, Score: 0.01511\n",
      "Feature: 6, Score: 0.01652\n",
      "Feature: 7, Score: 0.17056\n",
      "Feature: 8, Score: 0.05259\n",
      "Feature: 9, Score: 0.05628\n",
      "Feature: 10, Score: 0.03221\n",
      "Feature: 11, Score: 0.04365\n",
      "Feature: 12, Score: 0.02388\n",
      "Feature: 13, Score: 0.02546\n",
      "Feature: 14, Score: 0.02378\n",
      "Feature: 15, Score: 0.02571\n",
      "Feature: 16, Score: 0.01421\n",
      "Feature: 17, Score: 0.01593\n",
      "Feature: 18, Score: 0.00587\n",
      "Feature: 19, Score: 0.02774\n",
      "Feature: 20, Score: 0.10109\n",
      "Feature: 21, Score: 0.07578\n",
      "Feature: 22, Score: 0.00515\n"
     ]
    },
    {
     "data": {
      "image/png": "[encoded data removed]",
      "text/plain": [
       "<Figure size 432x288 with 1 Axes>"
      ]
     },
     "metadata": {
      "needs_background": "light"
     },
     "output_type": "display_data"
    }
   ],
   "source": [
    "#Feature Selection\n",
    "\n",
    "colNames = X.columns.tolist()\n",
    "featureImportance = {}\n",
    "\n",
    "# define the model\n",
    "model = RandomForestClassifier()\n",
    "# fit the model\n",
    "model.fit(X, y)\n",
    "# get importance\n",
    "importance = model.feature_importances_\n",
    "# summarize feature importance\n",
    "for i,v in enumerate(importance):\n",
    "    featureImportance[colNames[i]] = v\n",
    "    print('Feature: %0d, Score: %.5f' % (i,v))\n",
    "# plot feature importance\n",
    "pyplot.barh([x for x in range(len(importance))], importance)\n",
    "pyplot.show()"
   ]
  },
  {
   "cell_type": "code",
   "execution_count": 7,
   "metadata": {},
   "outputs": [
    {
     "data": {
      "text/plain": [
       "{'Age': 0.03891155801209103,\n",
       " 'Flight Distance': 0.04096411964712164,\n",
       " 'Inflight wifi service': 0.12956896888317018,\n",
       " 'Departure/Arrival time convenient': 0.016610137496779986,\n",
       " 'Ease of Online booking': 0.042432388351913194,\n",
       " 'Gate location': 0.01510761749449034,\n",
       " 'Food and drink': 0.016516760759508933,\n",
       " 'Online boarding': 0.17055545960852478,\n",
       " 'Seat comfort': 0.05259198597695583,\n",
       " 'Inflight entertainment': 0.056276123639175814,\n",
       " 'On-board service': 0.03221119898283761,\n",
       " 'Leg room service': 0.04365321509687801,\n",
       " 'Baggage handling': 0.023884756165678433,\n",
       " 'Checkin service': 0.025455662415143777,\n",
       " 'Inflight service': 0.02377954135362975,\n",
       " 'Cleanliness': 0.02571148121480328,\n",
       " 'Departure Delay in Minutes': 0.014205452329851743,\n",
       " 'Arrival Delay in Minutes': 0.015927569190251952,\n",
       " 'Male': 0.005870965441180764,\n",
       " 'disloyal Customer': 0.027738199787715273,\n",
       " 'Personal Travel': 0.10109492524662304,\n",
       " 'Eco': 0.07578114979904904,\n",
       " 'Eco Plus': 0.005150763106625575}"
      ]
     },
     "execution_count": 7,
     "metadata": {},
     "output_type": "execute_result"
    }
   ],
   "source": [
    "#Displaying respective features and their importance\n",
    "featureImportance"
   ]
  },
  {
   "cell_type": "code",
   "execution_count": 8,
   "metadata": {},
   "outputs": [],
   "source": [
    "#Sorting the feature importance in descending order\n",
    "from operator import itemgetter\n",
    "sortedFeatureImportance = sorted(featureImportance.items(), key=itemgetter(1), reverse=True)"
   ]
  },
  {
   "cell_type": "code",
   "execution_count": 9,
   "metadata": {},
   "outputs": [
    {
     "data": {
      "text/plain": [
       "['Online boarding',\n",
       " 'Inflight wifi service',\n",
       " 'Personal Travel',\n",
       " 'Eco',\n",
       " 'Inflight entertainment']"
      ]
     },
     "execution_count": 9,
     "metadata": {},
     "output_type": "execute_result"
    }
   ],
   "source": [
    "#Extracting the column names of top 5 features\n",
    "selectedColumns = []\n",
    "for i in sortedFeatureImportance[0:5]:\n",
    "    selectedColumns.append(i[0])\n",
    "\n",
    "#Displaying the top 5 features\n",
    "selectedColumns"
   ]
  },
  {
   "cell_type": "code",
   "execution_count": 10,
   "metadata": {},
   "outputs": [
    {
     "data": {
      "text/html": [
       "<div>\n",
       "<style scoped>\n",
       "    .dataframe tbody tr th:only-of-type {\n",
       "        vertical-align: middle;\n",
       "    }\n",
       "\n",
       "    .dataframe tbody tr th {\n",
       "        vertical-align: top;\n",
       "    }\n",
       "\n",
       "    .dataframe thead th {\n",
       "        text-align: right;\n",
       "    }\n",
       "</style>\n",
       "<table border=\"1\" class=\"dataframe\">\n",
       "  <thead>\n",
       "    <tr style=\"text-align: right;\">\n",
       "      <th></th>\n",
       "      <th>Online boarding</th>\n",
       "      <th>Inflight wifi service</th>\n",
       "      <th>Personal Travel</th>\n",
       "      <th>Eco</th>\n",
       "      <th>Inflight entertainment</th>\n",
       "    </tr>\n",
       "  </thead>\n",
       "  <tbody>\n",
       "    <tr>\n",
       "      <th>49734</th>\n",
       "      <td>5</td>\n",
       "      <td>2</td>\n",
       "      <td>0</td>\n",
       "      <td>0</td>\n",
       "      <td>5</td>\n",
       "    </tr>\n",
       "    <tr>\n",
       "      <th>50344</th>\n",
       "      <td>0</td>\n",
       "      <td>0</td>\n",
       "      <td>1</td>\n",
       "      <td>1</td>\n",
       "      <td>4</td>\n",
       "    </tr>\n",
       "    <tr>\n",
       "      <th>89920</th>\n",
       "      <td>4</td>\n",
       "      <td>4</td>\n",
       "      <td>0</td>\n",
       "      <td>1</td>\n",
       "      <td>4</td>\n",
       "    </tr>\n",
       "    <tr>\n",
       "      <th>60141</th>\n",
       "      <td>5</td>\n",
       "      <td>2</td>\n",
       "      <td>0</td>\n",
       "      <td>0</td>\n",
       "      <td>4</td>\n",
       "    </tr>\n",
       "    <tr>\n",
       "      <th>30363</th>\n",
       "      <td>1</td>\n",
       "      <td>1</td>\n",
       "      <td>0</td>\n",
       "      <td>1</td>\n",
       "      <td>3</td>\n",
       "    </tr>\n",
       "    <tr>\n",
       "      <th>...</th>\n",
       "      <td>...</td>\n",
       "      <td>...</td>\n",
       "      <td>...</td>\n",
       "      <td>...</td>\n",
       "      <td>...</td>\n",
       "    </tr>\n",
       "    <tr>\n",
       "      <th>48339</th>\n",
       "      <td>2</td>\n",
       "      <td>2</td>\n",
       "      <td>0</td>\n",
       "      <td>0</td>\n",
       "      <td>1</td>\n",
       "    </tr>\n",
       "    <tr>\n",
       "      <th>4100</th>\n",
       "      <td>4</td>\n",
       "      <td>3</td>\n",
       "      <td>0</td>\n",
       "      <td>0</td>\n",
       "      <td>4</td>\n",
       "    </tr>\n",
       "    <tr>\n",
       "      <th>3242</th>\n",
       "      <td>3</td>\n",
       "      <td>2</td>\n",
       "      <td>0</td>\n",
       "      <td>0</td>\n",
       "      <td>2</td>\n",
       "    </tr>\n",
       "    <tr>\n",
       "      <th>76095</th>\n",
       "      <td>4</td>\n",
       "      <td>0</td>\n",
       "      <td>0</td>\n",
       "      <td>0</td>\n",
       "      <td>1</td>\n",
       "    </tr>\n",
       "    <tr>\n",
       "      <th>87124</th>\n",
       "      <td>0</td>\n",
       "      <td>0</td>\n",
       "      <td>0</td>\n",
       "      <td>0</td>\n",
       "      <td>1</td>\n",
       "    </tr>\n",
       "  </tbody>\n",
       "</table>\n",
       "<p>4987 rows × 5 columns</p>\n",
       "</div>"
      ],
      "text/plain": [
       "      Online boarding Inflight wifi service  Personal Travel  Eco  \\\n",
       "49734               5                     2                0    0   \n",
       "50344               0                     0                1    1   \n",
       "89920               4                     4                0    1   \n",
       "60141               5                     2                0    0   \n",
       "30363               1                     1                0    1   \n",
       "...               ...                   ...              ...  ...   \n",
       "48339               2                     2                0    0   \n",
       "4100                4                     3                0    0   \n",
       "3242                3                     2                0    0   \n",
       "76095               4                     0                0    0   \n",
       "87124               0                     0                0    0   \n",
       "\n",
       "      Inflight entertainment  \n",
       "49734                      5  \n",
       "50344                      4  \n",
       "89920                      4  \n",
       "60141                      4  \n",
       "30363                      3  \n",
       "...                      ...  \n",
       "48339                      1  \n",
       "4100                       4  \n",
       "3242                       2  \n",
       "76095                      1  \n",
       "87124                      1  \n",
       "\n",
       "[4987 rows x 5 columns]"
      ]
     },
     "execution_count": 10,
     "metadata": {},
     "output_type": "execute_result"
    }
   ],
   "source": [
    "#New Data Variable containing selected columns\n",
    "newX = X[selectedColumns]\n",
    "\n",
    "#Displaying the new data variable\n",
    "newX"
   ]
  },
  {
   "cell_type": "markdown",
   "metadata": {},
   "source": [
    "### Task 2.2 - Model Fitting & Tuning <a class=\"anchor\" id=\"modelfitting\"></a>"
   ]
  },
  {
   "cell_type": "markdown",
   "metadata": {},
   "source": [
    "### The following predictive modeling has been performed with the original data variable containing all features"
   ]
  },
  {
   "cell_type": "code",
   "execution_count": 11,
   "metadata": {},
   "outputs": [],
   "source": [
    "#Splitting the training and test data \n",
    "from sklearn.model_selection import train_test_split\n",
    "\n",
    "X_train, X_test, y_train, y_test = train_test_split(X, y, test_size = .2)"
   ]
  },
  {
   "cell_type": "code",
   "execution_count": 12,
   "metadata": {},
   "outputs": [],
   "source": [
    "#List of classifiers to be implemented on data\n",
    "models = [SVC(), KNeighborsClassifier(), RandomForestClassifier(), GaussianNB(), GradientBoostingClassifier()]"
   ]
  },
  {
   "cell_type": "code",
   "execution_count": 13,
   "metadata": {},
   "outputs": [],
   "source": [
    "#Function which implements different classifiers\n",
    "def classifier_model(classifier, X, y):\n",
    "    \"\"\"\n",
    "    Function to run a machine learning model on a set of training data and see how well it generalizes on a set of test data.\n",
    "    Parameters: \n",
    "    classifier - a machine learning algorithm like decision tree\n",
    "    X_train - a subset of training data\n",
    "    X_test - a subset of training data\n",
    "    y_train - a subset of test datasubset of test data\n",
    "    y_test - a \n",
    "    Returns:\n",
    "    prediction:(numpy array) - A numpy array containing the predicted values\n",
    "    accuracy: (float) - The accuracy of the model\n",
    "    \"\"\"\n",
    "    scores = cross_val_score(classifier, X, y, cv=5)\n",
    "    scores\n",
    "    return round(sum(scores/5),3)"
   ]
  },
  {
   "cell_type": "code",
   "execution_count": 14,
   "metadata": {},
   "outputs": [
    {
     "name": "stdout",
     "output_type": "stream",
     "text": [
      "Model Name: SVC(), Score: 0.663\n",
      "Model Name: KNeighborsClassifier(), Score: 0.644\n",
      "Model Name: RandomForestClassifier(), Score: 0.942\n",
      "Model Name: GaussianNB(), Score: 0.859\n",
      "Model Name: GradientBoostingClassifier(), Score: 0.94\n"
     ]
    }
   ],
   "source": [
    "for model in models:\n",
    "    print(f'Model Name: {str(model)}, Score: {classifier_model(model, X, y)}')"
   ]
  },
  {
   "cell_type": "markdown",
   "metadata": {},
   "source": [
    "### The following predictive modeling has been performed with the new data variable containing only top 5 features"
   ]
  },
  {
   "cell_type": "code",
   "execution_count": 15,
   "metadata": {},
   "outputs": [],
   "source": [
    "X_train, X_test, y_train, y_test = train_test_split(newX, y, test_size = .2)"
   ]
  },
  {
   "cell_type": "code",
   "execution_count": 16,
   "metadata": {
    "scrolled": true
   },
   "outputs": [
    {
     "name": "stdout",
     "output_type": "stream",
     "text": [
      "Model Name: SVC(), Score: 0.916\n",
      "Model Name: KNeighborsClassifier(), Score: 0.899\n",
      "Model Name: RandomForestClassifier(), Score: 0.924\n",
      "Model Name: GaussianNB(), Score: 0.85\n",
      "Model Name: GradientBoostingClassifier(), Score: 0.914\n"
     ]
    }
   ],
   "source": [
    "for model in models:\n",
    "    print(f'Model Name: {str(model)}, Score: {classifier_model(model, newX, y)}')"
   ]
  },
  {
   "cell_type": "markdown",
   "metadata": {},
   "source": [
    "### HyperParameter Tuning"
   ]
  },
  {
   "cell_type": "code",
   "execution_count": 17,
   "metadata": {},
   "outputs": [],
   "source": [
    "knn_params = {'n_neighbors': [3, 5, 7, 9, 11, 13],\n",
    "              'p': [1, 2]}\n",
    "\n",
    "rf_param_grid = {'n_estimators': [100, 200],\n",
    "                'max_features': ['auto', 'sqrt', 'log2'],\n",
    "                'criterion': ['gini', 'entropy']}\n",
    "\n",
    "nb_params = {'var_smoothing': [1e-9, 1e-10, 1e-11, 1e-12]}\n",
    "\n",
    "svm_params = {'C': [1, 10, 100],\n",
    "             'kernel': ['rbf', 'linear'],\n",
    "             'gamma': ['scale', 'auto']}\n",
    "\n",
    "xg_params = {\n",
    "        'loss': ['deviance', 'exponential'],\n",
    "        'learning_rate': [0.1, 0.2, 0.5, 0.7],\n",
    "        'criterion': ['friedman_mse', 'mse', 'mae'],\n",
    "        }\n",
    "\n",
    "knn_grid_search = GridSearchCV(KNeighborsClassifier(), knn_params, cv = 5, n_jobs = n_jobs)\n",
    "   \n",
    "rf_grid_search = GridSearchCV(RandomForestClassifier(), rf_param_grid, cv = 5, n_jobs = n_jobs)\n",
    "    \n",
    "nb_grid_search = GridSearchCV(GaussianNB(), nb_params, cv = 5, n_jobs = n_jobs)\n",
    "    \n",
    "svm_grid_search = GridSearchCV(SVC(), svm_params, cv = 5, n_jobs = n_jobs)\n",
    "    \n",
    "xg_grid_search = GridSearchCV(GradientBoostingClassifier(), xg_params, cv = 5, n_jobs = n_jobs)"
   ]
  },
  {
   "cell_type": "code",
   "execution_count": 18,
   "metadata": {},
   "outputs": [],
   "source": [
    "#Function of classifiers with Hyper parameter tuning\n",
    "\n",
    "def classifier_model_and_tuning(classifier, X_train, X_test, y_train, y_test, X, y):\n",
    "    \"\"\"\n",
    "    Function to run a machine learning model on a set of training data and see how well it generalizes on a set of test data.\n",
    "    Parameters: \n",
    "    classifier - a machine learning algorithm like decision tree\n",
    "    X_train - a subset of training data\n",
    "    X_test - a subset of training data\n",
    "    y_train - a subset of test datasubset of test data\n",
    "    y_test - a \n",
    "    Returns:\n",
    "    prediction:(numpy array) - A numpy array containing the predicted values\n",
    "    accuracy: (float) - The accuracy of the model\n",
    "    \"\"\"\n",
    "    \n",
    "    if str(classifier) == 'SVC()':\n",
    "        svm_grid_search.fit(X_train, y_train)\n",
    "        new_model =  svm_grid_search.best_estimator_\n",
    "    elif str(classifier) == 'KNeighborsClassifier()':\n",
    "        knn_grid_search.fit(X_train, y_train)\n",
    "        new_model = knn_grid_search.best_estimator_\n",
    "    elif str(classifier) == 'RandomForestClassifier()':\n",
    "        rf_grid_search.fit(X_train, y_train)\n",
    "        new_model = rf_grid_search.best_estimator_\n",
    "    elif str(classifier) == 'GaussianNB()':\n",
    "        nb_grid_search.fit(X_train, y_train)\n",
    "        new_model = nb_grid_search.best_estimator_\n",
    "    else:\n",
    "        xg_grid_search.fit(X_train, y_train)\n",
    "        new_model = xg_grid_search.best_estimator_\n",
    "        \n",
    "    scores = cross_val_score(new_model, X, y, cv=5)\n",
    "    return scores"
   ]
  },
  {
   "cell_type": "code",
   "execution_count": 19,
   "metadata": {},
   "outputs": [],
   "source": [
    "model_scored = {}\n",
    "for model in models:\n",
    "    model_scored[model] = classifier_model_and_tuning(model, X_train, X_test, y_train, y_test, newX, y)"
   ]
  },
  {
   "cell_type": "code",
   "execution_count": 20,
   "metadata": {},
   "outputs": [
    {
     "name": "stdout",
     "output_type": "stream",
     "text": [
      "SVC() -> 0.923\n",
      "KNeighborsClassifier() -> 0.909\n",
      "RandomForestClassifier() -> 0.925\n",
      "GaussianNB() -> 0.85\n",
      "GradientBoostingClassifier() -> 0.922\n"
     ]
    }
   ],
   "source": [
    "for key in model_scored.keys():\n",
    "    print(key, '->', round(sum(model_scored[key])/5, 3))"
   ]
  },
  {
   "cell_type": "markdown",
   "metadata": {},
   "source": [
    "### Task 2.3 - Model Comparison <a class=\"anchor\" id=\"modelcomparison\"></a>"
   ]
  },
  {
   "cell_type": "code",
   "execution_count": 21,
   "metadata": {},
   "outputs": [],
   "source": [
    "repeatedKStratified_cv = RepeatedStratifiedKFold(n_splits = 5, n_repeats = 3, random_state = RANDOM_STATE)\n",
    "def plot_roc(model, param, X_train, y_train, X_test, y_test):\n",
    "    scoring_metric = 'roc_auc'\n",
    "    gs_model = GridSearchCV(estimator = model, \n",
    "                      param_grid = param, \n",
    "                      cv = repeatedKStratified_cv,\n",
    "                      verbose = 1, \n",
    "                      scoring = scoring_metric,\n",
    "                      return_train_score = True,\n",
    "                      n_jobs=n_jobs)\n",
    "    \n",
    "    gs_model.fit(X_train, y_train)\n",
    "    gs_model_pred = gs_model.predict(X_test)\n",
    "    \n",
    "    roc_auc_score(y_test, gs_model_pred)\n",
    "    \n",
    "    # Calculating roc score.\n",
    "    model_prob = gs_model.predict_proba(X_test)\n",
    "    fpr_model, tpr_model, _ = roc_curve(y_test, model_prob[:, 1])\n",
    "    roc_auc_model = auc(fpr_model, tpr_model)\n",
    "    print(roc_auc_model)\n",
    "    \n",
    "    # Creating dataframe containing TPR and FPR\n",
    "    model_roc = pd.DataFrame({\"TPR\": tpr_model, \"FPR\": fpr_model})\n",
    "\n",
    "    # Plotting ROC curve\n",
    "    plt.figure(num=None, figsize=(5, 5), dpi=80, facecolor='w', edgecolor='k')\n",
    "    plt.plot(model_roc['FPR'], model_roc['FPR'], color='green', linestyle='--')\n",
    "    plt.plot(model_roc['FPR'], model_roc['TPR'], color='blue')\n",
    "    plt.xlabel('False Positive Rate (FPR)')\n",
    "    plt.ylabel('True Positive Rate (TPR)')\n",
    "    plt.title(f'ROC Curve for {str(model)}')\n",
    "    plt.grid(True, linewidth=1)\n",
    "\n",
    "    plt.show()"
   ]
  },
  {
   "cell_type": "code",
   "execution_count": 22,
   "metadata": {},
   "outputs": [
    {
     "name": "stdout",
     "output_type": "stream",
     "text": [
      "Fitting 15 folds for each of 12 candidates, totalling 180 fits\n"
     ]
    },
    {
     "name": "stderr",
     "output_type": "stream",
     "text": [
      "[Parallel(n_jobs=-1)]: Using backend LokyBackend with 8 concurrent workers.\n",
      "[Parallel(n_jobs=-1)]: Done  34 tasks      | elapsed:    2.8s\n",
      "[Parallel(n_jobs=-1)]: Done 180 out of 180 | elapsed:   59.0s finished\n"
     ]
    },
    {
     "name": "stdout",
     "output_type": "stream",
     "text": [
      "0.9603324081416864\n"
     ]
    },
    {
     "data": {
      "image/png": "[encoded data removed]",
      "text/plain": [
       "<Figure size 400x400 with 1 Axes>"
      ]
     },
     "metadata": {},
     "output_type": "display_data"
    }
   ],
   "source": [
    "plot_roc(SVC(probability=True), svm_params, X_train, y_train, X_test, y_test)"
   ]
  },
  {
   "cell_type": "code",
   "execution_count": 23,
   "metadata": {},
   "outputs": [
    {
     "name": "stdout",
     "output_type": "stream",
     "text": [
      "Fitting 15 folds for each of 12 candidates, totalling 180 fits\n"
     ]
    },
    {
     "name": "stderr",
     "output_type": "stream",
     "text": [
      "[Parallel(n_jobs=-1)]: Using backend LokyBackend with 8 concurrent workers.\n",
      "[Parallel(n_jobs=-1)]: Done  56 tasks      | elapsed:    0.5s\n"
     ]
    },
    {
     "name": "stdout",
     "output_type": "stream",
     "text": [
      "0.953122934840074\n"
     ]
    },
    {
     "name": "stderr",
     "output_type": "stream",
     "text": [
      "[Parallel(n_jobs=-1)]: Done 180 out of 180 | elapsed:    1.3s finished\n"
     ]
    },
    {
     "data": {
      "image/png": "[encoded data removed]",
      "text/plain": [
       "<Figure size 400x400 with 1 Axes>"
      ]
     },
     "metadata": {},
     "output_type": "display_data"
    }
   ],
   "source": [
    "plot_roc(KNeighborsClassifier(), knn_params, X_train, y_train, X_test, y_test)"
   ]
  },
  {
   "cell_type": "code",
   "execution_count": 24,
   "metadata": {},
   "outputs": [
    {
     "name": "stderr",
     "output_type": "stream",
     "text": [
      "[Parallel(n_jobs=-1)]: Using backend LokyBackend with 8 concurrent workers.\n"
     ]
    },
    {
     "name": "stdout",
     "output_type": "stream",
     "text": [
      "Fitting 15 folds for each of 12 candidates, totalling 180 fits\n"
     ]
    },
    {
     "name": "stderr",
     "output_type": "stream",
     "text": [
      "[Parallel(n_jobs=-1)]: Done  34 tasks      | elapsed:    2.1s\n",
      "[Parallel(n_jobs=-1)]: Done 180 out of 180 | elapsed:   10.3s finished\n"
     ]
    },
    {
     "name": "stdout",
     "output_type": "stream",
     "text": [
      "0.9674241673275179\n"
     ]
    },
    {
     "data": {
      "image/png": "[encoded data removed]",
      "text/plain": [
       "<Figure size 400x400 with 1 Axes>"
      ]
     },
     "metadata": {},
     "output_type": "display_data"
    }
   ],
   "source": [
    "plot_roc(RandomForestClassifier(), rf_param_grid, X_train, y_train, X_test, y_test)"
   ]
  },
  {
   "cell_type": "code",
   "execution_count": 25,
   "metadata": {},
   "outputs": [
    {
     "name": "stdout",
     "output_type": "stream",
     "text": [
      "Fitting 15 folds for each of 4 candidates, totalling 60 fits\n",
      "0.9016405630452022\n"
     ]
    },
    {
     "name": "stderr",
     "output_type": "stream",
     "text": [
      "[Parallel(n_jobs=-1)]: Using backend LokyBackend with 8 concurrent workers.\n",
      "[Parallel(n_jobs=-1)]: Done  45 out of  60 | elapsed:    0.1s remaining:    0.0s\n",
      "[Parallel(n_jobs=-1)]: Done  60 out of  60 | elapsed:    0.2s finished\n"
     ]
    },
    {
     "data": {
      "image/png": "[encoded data removed]",
      "text/plain": [
       "<Figure size 400x400 with 1 Axes>"
      ]
     },
     "metadata": {},
     "output_type": "display_data"
    }
   ],
   "source": [
    "plot_roc(GaussianNB(), nb_params, X_train, y_train, X_test, y_test)"
   ]
  },
  {
   "cell_type": "code",
   "execution_count": 26,
   "metadata": {},
   "outputs": [
    {
     "name": "stdout",
     "output_type": "stream",
     "text": [
      "Fitting 15 folds for each of 24 candidates, totalling 360 fits\n"
     ]
    },
    {
     "name": "stderr",
     "output_type": "stream",
     "text": [
      "[Parallel(n_jobs=-1)]: Using backend LokyBackend with 8 concurrent workers.\n",
      "[Parallel(n_jobs=-1)]: Done  52 tasks      | elapsed:    1.6s\n",
      "[Parallel(n_jobs=-1)]: Done 312 tasks      | elapsed:  2.2min\n",
      "[Parallel(n_jobs=-1)]: Done 360 out of 360 | elapsed:  3.5min finished\n"
     ]
    },
    {
     "name": "stdout",
     "output_type": "stream",
     "text": [
      "0.9720294739624636\n"
     ]
    },
    {
     "data": {
      "image/png": "[encoded data removed]",
      "text/plain": [
       "<Figure size 400x400 with 1 Axes>"
      ]
     },
     "metadata": {},
     "output_type": "display_data"
    }
   ],
   "source": [
    "plot_roc(GradientBoostingClassifier(), xg_params, X_train, y_train, X_test, y_test)"
   ]
  },
  {
   "cell_type": "code",
   "execution_count": 27,
   "metadata": {},
   "outputs": [
    {
     "name": "stdout",
     "output_type": "stream",
     "text": [
      "Comparison between SVC() and KNeighborsClassifier(). Result is 0.00505768\n",
      "Comparison between SVC() and RandomForestClassifier(). Result is 0.1215206\n",
      "Comparison between SVC() and GaussianNB(). Result is 0.00010744\n",
      "Comparison between SVC() and GradientBoostingClassifier(). Result is 0.74048598\n",
      "Comparison between KNeighborsClassifier() and SVC(). Result is 0.00505768\n",
      "Comparison between KNeighborsClassifier() and RandomForestClassifier(). Result is 0.01171125\n",
      "Comparison between KNeighborsClassifier() and GaussianNB(). Result is 0.00066439\n",
      "Comparison between KNeighborsClassifier() and GradientBoostingClassifier(). Result is 0.00441252\n",
      "Comparison between RandomForestClassifier() and SVC(). Result is 0.1215206\n",
      "Comparison between RandomForestClassifier() and KNeighborsClassifier(). Result is 0.01171125\n",
      "Comparison between RandomForestClassifier() and GaussianNB(). Result is 7.854e-05\n",
      "Comparison between RandomForestClassifier() and GradientBoostingClassifier(). Result is 0.26622945\n",
      "Comparison between GaussianNB() and SVC(). Result is 0.00010744\n",
      "Comparison between GaussianNB() and KNeighborsClassifier(). Result is 0.00066439\n",
      "Comparison between GaussianNB() and RandomForestClassifier(). Result is 7.854e-05\n",
      "Comparison between GaussianNB() and GradientBoostingClassifier(). Result is 0.00036291\n",
      "Comparison between GradientBoostingClassifier() and SVC(). Result is 0.74048598\n",
      "Comparison between GradientBoostingClassifier() and KNeighborsClassifier(). Result is 0.00441252\n",
      "Comparison between GradientBoostingClassifier() and RandomForestClassifier(). Result is 0.26622945\n",
      "Comparison between GradientBoostingClassifier() and GaussianNB(). Result is 0.00036291\n"
     ]
    }
   ],
   "source": [
    "for outer_key in model_scored.keys():\n",
    "    for inner_key in model_scored.keys():\n",
    "        if(outer_key!=inner_key):\n",
    "            print(f'Comparison between {outer_key} and {inner_key}. Result is {stats.ttest_rel(model_scored[outer_key], model_scored[inner_key]).pvalue.round(8)}')\n"
   ]
  },
  {
   "cell_type": "markdown",
   "metadata": {},
   "source": [
    "# Task 3 - Critique & Limitations"
   ]
  },
  {
   "cell_type": "markdown",
   "metadata": {},
   "source": [
    "Strengths:\n",
    "1. We noticed that after doing feature selection, ideally the model should give less accuracy if the number of features are reduced, but as top 5 features were selected which are very impactful, the model gives better result as compared to using all features.\n",
    "2. Used GridSearchCV for selecting best model parameters which uses all the combinations of the given parameters. To save the computation cost of GridSearchCV, we have performed hyper parameter tuning after selecting the features which would reduce the complexity dimension of the dataset.\n",
    "3. Performed GridSearchCV on all the models which gives the best model estimator and hence comparison made between models will be fair.\n",
    "\n",
    "Weaknesses:\n",
    "1. The dataset that we selected contained around 100k rows, but due to the restrictions given, sampled only 5k rows. Due to this reason, accurate result of models cannot be obtained. \n",
    "2. If larger dataset is used, models can perform better. \n",
    "3. When hyper parameter tuning was performed, used only top 5 features selected from feature selection which can also deteriorate the result. \n",
    "4. In the process of feature selection, we ended up using Random Forest Importance methods. We could have avoided this, by using a wrapper which would have helped in determining the best feature selection method."
   ]
  },
  {
   "cell_type": "markdown",
   "metadata": {},
   "source": [
    "# Task 4 - Summary & Conclusions <a class=\"anchor\" id=\"summary\"></a>"
   ]
  },
  {
   "cell_type": "markdown",
   "metadata": {},
   "source": [
    "### Task 4.1 - Project Summary <a class=\"anchor\" id=\"projectsummary\"></a>"
   ]
  },
  {
   "cell_type": "markdown",
   "metadata": {},
   "source": [
    "After doing exploratory data analysis in phase 1, we found out that the customer satisfation depends on services like On-board service, Food & Drink, Cleanliness, Inflight entertainment, Online boarding, Seat Comfort, Leg Room. But when we did feature engineering we found that the customer satisfaction is dependent on other services as well.\n",
    "\n",
    "\n",
    "After preparing the data we moved to the data modeling phase. We took only a sample size of 5000 so we can reduce the computational time which would impact the accuracy of the model & might hide the true depiction of model accuracy.Now, we trained sampled data on various machine learning models, and obtained the best performing model in terms of accuracy which helps in predicting the satisfaction level of customers. Initially, we trained our data in models without hyperparameter tuning, to find a base model score. Random Forest resulted into best accuracy. Secondarily, we performed feature selection to find the minimal feature which have strong linkage with the predicted feature & help us reducing the computing cost with positive impact on the accuracy of the models or even if there is 3-5% of loss in the accuracy there would be significant savings in the computational effectiveness, we observed that few models (KNN) have significantly improved accuracy while there was minimal rise of accuracy in the other models."
   ]
  },
  {
   "cell_type": "markdown",
   "metadata": {},
   "source": [
    "### Task 4.2 - Summary of Findings <a class=\"anchor\" id=\"summary-of-findings\"></a>"
   ]
  },
  {
   "cell_type": "markdown",
   "metadata": {},
   "source": [
    "1. When hyperparameter tuning is performed on 5 models using GridSearchCV to observe if tuning the hyperparameters would improve the accuracy of these models before selecting the best model for our further analysis, we noticed that there wasn’t any significant improvement in the accuracy of the models. \n",
    "2. We also analyzed the ROC curve of the best performing model to find TPR & FPR, which would help airline make the right choice & adjusting the balance of TPR & FPR according to their business needs. \n",
    "3. Furthermore, we executed a paired t-test on the models with the optimal accuracy. In the end, the XGBoost came on top with the best accuracy score of 92.2% and ROC score of 97.2% on the sampled data. \n",
    "4. Random Forest Classifier, SVC, and XGBoost Classifier models were the models which performed the best but when we compare the results using the ROC curve which gives us Information about the false positives rate and true positive rate, the roc score of XGBoost is the highest. We will therfore conclude that the XGBoost classifier is the best classiier model amongst all the models we compared."
   ]
  },
  {
   "cell_type": "markdown",
   "metadata": {},
   "source": [
    "### Task 4.3 - Conclusions <a class=\"anchor\" id=\"conclusions\"></a>"
   ]
  },
  {
   "cell_type": "markdown",
   "metadata": {},
   "source": [
    "Satisfaction rate for any airline is very important. Using this we can see in what all sections the airline is lacking and improve on them. In this report, we found that customer satisfaction can be predicted by mainly 5 features which are 'Online boarding', 'Inflight wifi service', 'Type of Travel', 'Class', 'Inflight entertainment'. So, if an airline wants to improve their satisfaction rating, they need to focus on improving these 5 services. Using our machine learning model, we can get the customer satisfaction rating of any airline we want. We can also help any airline improve their satifaction rating by telling them what service they lack in and need improvement in.\n",
    "\n",
    "In future, we will be training the model on all the data which consisted of more than 100k records instead of the sample data of 5000 records. Doing this will make the model more accurate and precise. "
   ]
  }
 ],
 "metadata": {
  "kernelspec": {
   "display_name": "Python 3",
   "language": "python",
   "name": "python3"
  },
  "language_info": {
   "codemirror_mode": {
    "name": "ipython",
    "version": 3
   },
   "file_extension": ".py",
   "mimetype": "text/x-python",
   "name": "python",
   "nbconvert_exporter": "python",
   "pygments_lexer": "ipython3",
   "version": "3.8.5"
  }
 },
 "nbformat": 4,
 "nbformat_minor": 4
}
